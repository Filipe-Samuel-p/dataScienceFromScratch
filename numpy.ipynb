{
 "cells": [
  {
   "cell_type": "markdown",
   "metadata": {},
   "source": [
    "# O que é a biblioteca Numpy?\n",
    "\n",
    "Numpy é uma biblioteca que melhor trabalha com arrays (listas), sejam eles de uma, duas ou mais dimensões. Ela também permite trabalhar muito bem com a algebra linear. \n",
    "\n",
    "Por que numpy e não as próprias listas em python? então, com o numpy, a criação, manipulação e tratamentos de listas ficam muito mais facies e rápidas! logo, é excelente para esse tipo de tratamento, principalmente para listas muitos extensas. \n",
    "\n",
    "OBS: o numpy por baixo dos panos é escrita principalmente em python, mas também usa-se muito C e C++\n",
    "\n",
    "documentação do numpy: https://numpy.org/devdocs/user/quickstart.html"
   ]
  },
  {
   "cell_type": "code",
   "execution_count": 1,
   "metadata": {},
   "outputs": [
    {
     "name": "stdout",
     "output_type": "stream",
     "text": [
      "[1 2 3 4 5]\n"
     ]
    }
   ],
   "source": [
    "import numpy as np   #importação da biblioteca usando o \"apelido\" np\n",
    "\n",
    "primiro_array = np.array([1,2,3,4,5])\n",
    "primiro_array   #para mostrar algo na tela, o jupyter permite apenas botar o nome da variavel, não precisa do print, porém \n",
    "                #tem diferença no output.\n",
    "print(primiro_array)\n"
   ]
  },
  {
   "cell_type": "code",
   "execution_count": 2,
   "metadata": {},
   "outputs": [
    {
     "data": {
      "text/plain": [
       "array([1, 2, 3, 4])"
      ]
     },
     "execution_count": 2,
     "metadata": {},
     "output_type": "execute_result"
    }
   ],
   "source": [
    "#Use o método array() para criar qualquer coisa em um array: tuplas,listas etc\n",
    "\n",
    "tuple_to_array = np.array((1,2,3,4))\n",
    "tuple_to_array"
   ]
  },
  {
   "cell_type": "code",
   "execution_count": 3,
   "metadata": {},
   "outputs": [
    {
     "data": {
      "text/plain": [
       "2"
      ]
     },
     "execution_count": 3,
     "metadata": {},
     "output_type": "execute_result"
    }
   ],
   "source": [
    "#para saber a dimensao de um array, use \"ndim\"\n",
    "\n",
    "arr = np.array([[1,2,3],\n",
    "                [4,5,6]])\n",
    "arr.ndim"
   ]
  },
  {
   "cell_type": "code",
   "execution_count": 4,
   "metadata": {},
   "outputs": [
    {
     "name": "stdout",
     "output_type": "stream",
     "text": [
      "1\n",
      "o terceiro elemento da segunda linha: 8\n"
     ]
    }
   ],
   "source": [
    "#acessando elementos é igual as listas em python, usa-se os index \n",
    "\n",
    "arr = np.array([1,2,4,5,6])\n",
    "print(arr[0])\n",
    "\n",
    "#duas ou mais dimensoes \n",
    "\n",
    "arry = np.array([[1,2,4,5],\n",
    "                 [6,7,8,9]])\n",
    "\n",
    "print(f\"o terceiro elemento da segunda linha: {arry[1,2]}\")"
   ]
  },
  {
   "cell_type": "code",
   "execution_count": null,
   "metadata": {},
   "outputs": [],
   "source": [
    "# gerando um array com inteiros aleatórios\n",
    "np.random.randint(0,100,10) #esse ultimo parametro é o tamanho do vetor"
   ]
  },
  {
   "cell_type": "code",
   "execution_count": null,
   "metadata": {},
   "outputs": [],
   "source": [
    "#indice \n",
    "\n",
    "arr = np.arange(1,11)\n",
    "arr\n",
    "arr[0:5] #fatiamento\n",
    "arr[-1:0:-1]"
   ]
  },
  {
   "cell_type": "code",
   "execution_count": null,
   "metadata": {},
   "outputs": [],
   "source": [
    "arr_zero = np.zeros(10) #um array apenas com 0\n",
    "arr_zero\n",
    "arr_ones = np.ones(10) #um array apenas com 1\n",
    "arr_ones\n",
    "\n",
    "arr_fives = arr_ones * 5\n",
    "arr_fives\n",
    "\n",
    "arr_50 = np.arange(10,50)\n",
    "arr_50\n",
    "\n",
    "even_Arr = [x for x in arr_50 if x%2 == 0]\n",
    "even_Arr"
   ]
  }
 ],
 "metadata": {
  "kernelspec": {
   "display_name": "venv",
   "language": "python",
   "name": "python3"
  },
  "language_info": {
   "codemirror_mode": {
    "name": "ipython",
    "version": 3
   },
   "file_extension": ".py",
   "mimetype": "text/x-python",
   "name": "python",
   "nbconvert_exporter": "python",
   "pygments_lexer": "ipython3",
   "version": "3.13.7"
  }
 },
 "nbformat": 4,
 "nbformat_minor": 2
}
