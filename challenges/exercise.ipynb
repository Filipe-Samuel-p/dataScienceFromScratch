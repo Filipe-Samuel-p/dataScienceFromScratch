{
 "cells": [
  {
   "cell_type": "code",
   "execution_count": 3,
   "id": "0a7aa5ca",
   "metadata": {},
   "outputs": [],
   "source": [
    "import pandas as pd"
   ]
  },
  {
   "cell_type": "code",
   "execution_count": 10,
   "id": "e62e80e7",
   "metadata": {},
   "outputs": [
    {
     "data": {
      "text/plain": [
       "(5208, 22)"
      ]
     },
     "execution_count": 10,
     "metadata": {},
     "output_type": "execute_result"
    }
   ],
   "source": [
    "df = pd.read_csv(\"https://raw.githubusercontent.com/carlosfab/dsnp2/master/datasets/ocorrencias_aviacao.csv\")\n",
    "\n",
    "df.shape"
   ]
  },
  {
   "cell_type": "code",
   "execution_count": 11,
   "id": "f87ef367",
   "metadata": {},
   "outputs": [
    {
     "data": {
      "text/html": [
       "<div>\n",
       "<style scoped>\n",
       "    .dataframe tbody tr th:only-of-type {\n",
       "        vertical-align: middle;\n",
       "    }\n",
       "\n",
       "    .dataframe tbody tr th {\n",
       "        vertical-align: top;\n",
       "    }\n",
       "\n",
       "    .dataframe thead th {\n",
       "        text-align: right;\n",
       "    }\n",
       "</style>\n",
       "<table border=\"1\" class=\"dataframe\">\n",
       "  <thead>\n",
       "    <tr style=\"text-align: right;\">\n",
       "      <th></th>\n",
       "      <th>codigo_ocorrencia</th>\n",
       "      <th>ocorrencia_classificacao</th>\n",
       "      <th>ocorrencia_tipo</th>\n",
       "      <th>ocorrencia_tipo_categoria</th>\n",
       "      <th>ocorrencia_tipo_icao</th>\n",
       "      <th>ocorrencia_latitude</th>\n",
       "      <th>ocorrencia_longitude</th>\n",
       "      <th>ocorrencia_cidade</th>\n",
       "      <th>ocorrencia_uf</th>\n",
       "      <th>ocorrencia_pais</th>\n",
       "      <th>...</th>\n",
       "      <th>ocorrencia_horario</th>\n",
       "      <th>investigacao_aeronave_liberada</th>\n",
       "      <th>investigacao_status</th>\n",
       "      <th>divulgacao_relatorio_numero</th>\n",
       "      <th>divulgacao_relatorio_publicado</th>\n",
       "      <th>divulgacao_dia_publicacao</th>\n",
       "      <th>total_recomendacoes</th>\n",
       "      <th>total_aeronaves_envolvidas</th>\n",
       "      <th>ocorrencia_saida_pista</th>\n",
       "      <th>ocorrencia_dia_extracao</th>\n",
       "    </tr>\n",
       "  </thead>\n",
       "  <tbody>\n",
       "    <tr>\n",
       "      <th>0</th>\n",
       "      <td>201305055424986</td>\n",
       "      <td>ACIDENTE</td>\n",
       "      <td>FALHA DO MOTOR EM VOO</td>\n",
       "      <td>FALHA OU MAU FUNCIONAMENTO DO MOTOR</td>\n",
       "      <td>SCF-PP</td>\n",
       "      <td>-9.9085</td>\n",
       "      <td>-63.0333</td>\n",
       "      <td>ARIQUEMES</td>\n",
       "      <td>RO</td>\n",
       "      <td>BRASIL</td>\n",
       "      <td>...</td>\n",
       "      <td>11:00:00</td>\n",
       "      <td>NaN</td>\n",
       "      <td>FINALIZADA</td>\n",
       "      <td>***</td>\n",
       "      <td>NÃO</td>\n",
       "      <td>NaN</td>\n",
       "      <td>0</td>\n",
       "      <td>1</td>\n",
       "      <td>NÃO</td>\n",
       "      <td>2018-08-28</td>\n",
       "    </tr>\n",
       "    <tr>\n",
       "      <th>1</th>\n",
       "      <td>201605160250139</td>\n",
       "      <td>INCIDENTE GRAVE</td>\n",
       "      <td>COLISÃO COM OBSTÁCULO DURANTE A DECOLAGEM E POUSO</td>\n",
       "      <td>COLISÃO COM OBSTÁCULO DURANTE A DECOLAGEM E POUSO</td>\n",
       "      <td>CTOL</td>\n",
       "      <td>-11.2644</td>\n",
       "      <td>-61.2589</td>\n",
       "      <td>CACOAL</td>\n",
       "      <td>RO</td>\n",
       "      <td>BRASIL</td>\n",
       "      <td>...</td>\n",
       "      <td>19:19:00</td>\n",
       "      <td>SIM</td>\n",
       "      <td>ATIVA</td>\n",
       "      <td>IG-084/CENIPA/2016</td>\n",
       "      <td>NÃO</td>\n",
       "      <td>NaN</td>\n",
       "      <td>0</td>\n",
       "      <td>1</td>\n",
       "      <td>NÃO</td>\n",
       "      <td>2018-08-28</td>\n",
       "    </tr>\n",
       "    <tr>\n",
       "      <th>2</th>\n",
       "      <td>201805021421302</td>\n",
       "      <td>INCIDENTE</td>\n",
       "      <td>AERÓDROMO</td>\n",
       "      <td>AERÓDROMO</td>\n",
       "      <td>ADRM</td>\n",
       "      <td>-11.4956</td>\n",
       "      <td>-61.4508</td>\n",
       "      <td>CACOAL</td>\n",
       "      <td>RO</td>\n",
       "      <td>BRASIL</td>\n",
       "      <td>...</td>\n",
       "      <td>22:40:00</td>\n",
       "      <td>SIM</td>\n",
       "      <td>FINALIZADA</td>\n",
       "      <td>***</td>\n",
       "      <td>NÃO</td>\n",
       "      <td>NaN</td>\n",
       "      <td>0</td>\n",
       "      <td>1</td>\n",
       "      <td>NÃO</td>\n",
       "      <td>2018-08-28</td>\n",
       "    </tr>\n",
       "    <tr>\n",
       "      <th>3</th>\n",
       "      <td>201311259977425</td>\n",
       "      <td>INCIDENTE GRAVE</td>\n",
       "      <td>POUSO SEM TREM</td>\n",
       "      <td>CONTATO ANORMAL COM A PISTA</td>\n",
       "      <td>ARC</td>\n",
       "      <td>-11.4956</td>\n",
       "      <td>-61.4508</td>\n",
       "      <td>CACOAL</td>\n",
       "      <td>RO</td>\n",
       "      <td>BRASIL</td>\n",
       "      <td>...</td>\n",
       "      <td>12:32:00</td>\n",
       "      <td>NaN</td>\n",
       "      <td>FINALIZADA</td>\n",
       "      <td>IG-209/CENIPA/2013</td>\n",
       "      <td>SIM</td>\n",
       "      <td>2014-04-07</td>\n",
       "      <td>0</td>\n",
       "      <td>1</td>\n",
       "      <td>NÃO</td>\n",
       "      <td>2018-08-28</td>\n",
       "    </tr>\n",
       "    <tr>\n",
       "      <th>4</th>\n",
       "      <td>201103187273112</td>\n",
       "      <td>INCIDENTE</td>\n",
       "      <td>OUTROS</td>\n",
       "      <td>OUTROS</td>\n",
       "      <td>OTHR</td>\n",
       "      <td>-13.1950</td>\n",
       "      <td>-60.8184</td>\n",
       "      <td>CEREJEIRAS</td>\n",
       "      <td>RO</td>\n",
       "      <td>BRASIL</td>\n",
       "      <td>...</td>\n",
       "      <td>13:30:00</td>\n",
       "      <td>NaN</td>\n",
       "      <td>FINALIZADA</td>\n",
       "      <td>***</td>\n",
       "      <td>NÃO</td>\n",
       "      <td>NaN</td>\n",
       "      <td>0</td>\n",
       "      <td>1</td>\n",
       "      <td>NÃO</td>\n",
       "      <td>2018-08-28</td>\n",
       "    </tr>\n",
       "  </tbody>\n",
       "</table>\n",
       "<p>5 rows × 22 columns</p>\n",
       "</div>"
      ],
      "text/plain": [
       "   codigo_ocorrencia ocorrencia_classificacao  \\\n",
       "0    201305055424986                 ACIDENTE   \n",
       "1    201605160250139          INCIDENTE GRAVE   \n",
       "2    201805021421302                INCIDENTE   \n",
       "3    201311259977425          INCIDENTE GRAVE   \n",
       "4    201103187273112                INCIDENTE   \n",
       "\n",
       "                                     ocorrencia_tipo  \\\n",
       "0                              FALHA DO MOTOR EM VOO   \n",
       "1  COLISÃO COM OBSTÁCULO DURANTE A DECOLAGEM E POUSO   \n",
       "2                                          AERÓDROMO   \n",
       "3                                     POUSO SEM TREM   \n",
       "4                                             OUTROS   \n",
       "\n",
       "                           ocorrencia_tipo_categoria ocorrencia_tipo_icao  \\\n",
       "0                FALHA OU MAU FUNCIONAMENTO DO MOTOR               SCF-PP   \n",
       "1  COLISÃO COM OBSTÁCULO DURANTE A DECOLAGEM E POUSO                 CTOL   \n",
       "2                                          AERÓDROMO                 ADRM   \n",
       "3                        CONTATO ANORMAL COM A PISTA                  ARC   \n",
       "4                                             OUTROS                 OTHR   \n",
       "\n",
       "   ocorrencia_latitude  ocorrencia_longitude ocorrencia_cidade ocorrencia_uf  \\\n",
       "0              -9.9085              -63.0333         ARIQUEMES            RO   \n",
       "1             -11.2644              -61.2589            CACOAL            RO   \n",
       "2             -11.4956              -61.4508            CACOAL            RO   \n",
       "3             -11.4956              -61.4508            CACOAL            RO   \n",
       "4             -13.1950              -60.8184        CEREJEIRAS            RO   \n",
       "\n",
       "  ocorrencia_pais  ... ocorrencia_horario investigacao_aeronave_liberada  \\\n",
       "0          BRASIL  ...           11:00:00                            NaN   \n",
       "1          BRASIL  ...           19:19:00                            SIM   \n",
       "2          BRASIL  ...           22:40:00                            SIM   \n",
       "3          BRASIL  ...           12:32:00                            NaN   \n",
       "4          BRASIL  ...           13:30:00                            NaN   \n",
       "\n",
       "  investigacao_status divulgacao_relatorio_numero  \\\n",
       "0          FINALIZADA                         ***   \n",
       "1               ATIVA          IG-084/CENIPA/2016   \n",
       "2          FINALIZADA                         ***   \n",
       "3          FINALIZADA          IG-209/CENIPA/2013   \n",
       "4          FINALIZADA                         ***   \n",
       "\n",
       "  divulgacao_relatorio_publicado divulgacao_dia_publicacao  \\\n",
       "0                            NÃO                       NaN   \n",
       "1                            NÃO                       NaN   \n",
       "2                            NÃO                       NaN   \n",
       "3                            SIM                2014-04-07   \n",
       "4                            NÃO                       NaN   \n",
       "\n",
       "  total_recomendacoes total_aeronaves_envolvidas  ocorrencia_saida_pista  \\\n",
       "0                   0                          1                     NÃO   \n",
       "1                   0                          1                     NÃO   \n",
       "2                   0                          1                     NÃO   \n",
       "3                   0                          1                     NÃO   \n",
       "4                   0                          1                     NÃO   \n",
       "\n",
       "   ocorrencia_dia_extracao  \n",
       "0               2018-08-28  \n",
       "1               2018-08-28  \n",
       "2               2018-08-28  \n",
       "3               2018-08-28  \n",
       "4               2018-08-28  \n",
       "\n",
       "[5 rows x 22 columns]"
      ]
     },
     "execution_count": 11,
     "metadata": {},
     "output_type": "execute_result"
    }
   ],
   "source": [
    "df.head()"
   ]
  },
  {
   "cell_type": "code",
   "execution_count": 13,
   "id": "9230dade",
   "metadata": {},
   "outputs": [
    {
     "data": {
      "text/plain": [
       "codigo_ocorrencia                   int64\n",
       "ocorrencia_classificacao           object\n",
       "ocorrencia_tipo                    object\n",
       "ocorrencia_tipo_categoria          object\n",
       "ocorrencia_tipo_icao               object\n",
       "ocorrencia_latitude               float64\n",
       "ocorrencia_longitude              float64\n",
       "ocorrencia_cidade                  object\n",
       "ocorrencia_uf                      object\n",
       "ocorrencia_pais                    object\n",
       "ocorrencia_aerodromo               object\n",
       "ocorrencia_dia                     object\n",
       "ocorrencia_horario                 object\n",
       "investigacao_aeronave_liberada     object\n",
       "investigacao_status                object\n",
       "divulgacao_relatorio_numero        object\n",
       "divulgacao_relatorio_publicado     object\n",
       "divulgacao_dia_publicacao          object\n",
       "total_recomendacoes                 int64\n",
       "total_aeronaves_envolvidas          int64\n",
       "ocorrencia_saida_pista             object\n",
       "ocorrencia_dia_extracao            object\n",
       "dtype: object"
      ]
     },
     "execution_count": 13,
     "metadata": {},
     "output_type": "execute_result"
    }
   ],
   "source": [
    "df.dtypes"
   ]
  },
  {
   "cell_type": "code",
   "execution_count": 14,
   "id": "f874dc86",
   "metadata": {},
   "outputs": [
    {
     "name": "stdout",
     "output_type": "stream",
     "text": [
      "<class 'pandas.core.frame.DataFrame'>\n",
      "RangeIndex: 5208 entries, 0 to 5207\n",
      "Data columns (total 22 columns):\n",
      " #   Column                          Non-Null Count  Dtype  \n",
      "---  ------                          --------------  -----  \n",
      " 0   codigo_ocorrencia               5208 non-null   int64  \n",
      " 1   ocorrencia_classificacao        5208 non-null   object \n",
      " 2   ocorrencia_tipo                 5208 non-null   object \n",
      " 3   ocorrencia_tipo_categoria       5208 non-null   object \n",
      " 4   ocorrencia_tipo_icao            5208 non-null   object \n",
      " 5   ocorrencia_latitude             5208 non-null   float64\n",
      " 6   ocorrencia_longitude            5208 non-null   float64\n",
      " 7   ocorrencia_cidade               5208 non-null   object \n",
      " 8   ocorrencia_uf                   5208 non-null   object \n",
      " 9   ocorrencia_pais                 5208 non-null   object \n",
      " 10  ocorrencia_aerodromo            5208 non-null   object \n",
      " 11  ocorrencia_dia                  5208 non-null   object \n",
      " 12  ocorrencia_horario              5208 non-null   object \n",
      " 13  investigacao_aeronave_liberada  1110 non-null   object \n",
      " 14  investigacao_status             5208 non-null   object \n",
      " 15  divulgacao_relatorio_numero     5208 non-null   object \n",
      " 16  divulgacao_relatorio_publicado  5208 non-null   object \n",
      " 17  divulgacao_dia_publicacao       1261 non-null   object \n",
      " 18  total_recomendacoes             5208 non-null   int64  \n",
      " 19  total_aeronaves_envolvidas      5208 non-null   int64  \n",
      " 20  ocorrencia_saida_pista          5208 non-null   object \n",
      " 21  ocorrencia_dia_extracao         5208 non-null   object \n",
      "dtypes: float64(2), int64(3), object(17)\n",
      "memory usage: 895.3+ KB\n"
     ]
    }
   ],
   "source": [
    "df.info()"
   ]
  },
  {
   "cell_type": "code",
   "execution_count": 19,
   "id": "d4fb12a7",
   "metadata": {},
   "outputs": [
    {
     "data": {
      "text/plain": [
       "array(['ACIDENTE', 'INCIDENTE GRAVE', 'INCIDENTE'], dtype=object)"
      ]
     },
     "execution_count": 19,
     "metadata": {},
     "output_type": "execute_result"
    }
   ],
   "source": [
    "df[\"ocorrencia_classificacao\"].unique()"
   ]
  },
  {
   "cell_type": "code",
   "execution_count": 20,
   "id": "07e80ae1",
   "metadata": {},
   "outputs": [
    {
     "data": {
      "text/plain": [
       "array(['ACIDENTE', 'INCIDENTE GRAVE', 'INCIDENTE'], dtype=object)"
      ]
     },
     "execution_count": 20,
     "metadata": {},
     "output_type": "execute_result"
    }
   ],
   "source": [
    "df.ocorrencia_classificacao.unique()"
   ]
  },
  {
   "cell_type": "code",
   "execution_count": null,
   "id": "ecf00bf3",
   "metadata": {},
   "outputs": [
    {
     "data": {
      "text/plain": [
       "ocorrencia_uf\n",
       "SP     1207\n",
       "RJ      498\n",
       "MG      476\n",
       "PR      437\n",
       "RS      350\n",
       "GO      268\n",
       "PA      255\n",
       "MT      244\n",
       "AM      219\n",
       "BA      208\n",
       "SC      160\n",
       "DF      151\n",
       "MS      132\n",
       "PE       88\n",
       "CE       75\n",
       "ES       66\n",
       "MA       63\n",
       "TO       54\n",
       "AC       53\n",
       "RR       50\n",
       "PI       39\n",
       "RO       30\n",
       "PB       20\n",
       "SE       18\n",
       "AL       16\n",
       "RN       15\n",
       "AP       13\n",
       "***       3\n",
       "Name: count, dtype: int64"
      ]
     },
     "execution_count": 22,
     "metadata": {},
     "output_type": "execute_result"
    }
   ],
   "source": [
    "df.ocorrencia_uf.value_counts() #Verifica o maior valor presente em uma determinada coluna. Neste caso, indica a quantidade de acidentes por estado"
   ]
  },
  {
   "cell_type": "code",
   "execution_count": 42,
   "id": "75e680e0",
   "metadata": {},
   "outputs": [
    {
     "name": "stdout",
     "output_type": "stream",
     "text": [
      "5208\n",
      "682\n",
      "Porcetagem: 13.095238095238095%\n"
     ]
    }
   ],
   "source": [
    "todasOcorrencias = df.ocorrencia_tipo\n",
    "count = 0\n",
    "for ocorrencia in todasOcorrencias:\n",
    "   if str(ocorrencia) == \"FALHA DO MOTOR EM VOO\":\n",
    "        count += 1\n",
    "\n",
    "totalDeOcorrencia = df.shape[0]\n",
    "\n",
    "print(totalDeOcorrencia)\n",
    "\n",
    "print(count)\n",
    "\n",
    "porcentagemDeFalhaDoMotor = count * 100/totalDeOcorrencia\n",
    "\n",
    "print(f\"Porcetagem: {porcentagemDeFalhaDoMotor}%\")"
   ]
  },
  {
   "cell_type": "code",
   "execution_count": null,
   "id": "e5753298",
   "metadata": {},
   "outputs": [
    {
     "data": {
      "text/plain": [
       "13.095238095238097"
      ]
     },
     "execution_count": 45,
     "metadata": {},
     "output_type": "execute_result"
    }
   ],
   "source": [
    "df.loc[df.ocorrencia_tipo == \"FALHA DO MOTOR EM VOO\"].shape[0] / df.shape[0] * 100 "
   ]
  }
 ],
 "metadata": {
  "kernelspec": {
   "display_name": "venv",
   "language": "python",
   "name": "python3"
  },
  "language_info": {
   "codemirror_mode": {
    "name": "ipython",
    "version": 3
   },
   "file_extension": ".py",
   "mimetype": "text/x-python",
   "name": "python",
   "nbconvert_exporter": "python",
   "pygments_lexer": "ipython3",
   "version": "3.13.7"
  }
 },
 "nbformat": 4,
 "nbformat_minor": 5
}
