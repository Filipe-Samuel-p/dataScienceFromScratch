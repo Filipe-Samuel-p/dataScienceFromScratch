{
 "cells": [
  {
   "cell_type": "markdown",
   "id": "2ce1ec05",
   "metadata": {},
   "source": [
    "# Valores Ausentes\n",
    "\n",
    "Se você está lidando com bases de dados do mundo real, pode ter certeza que estará lidando com dados incompletos ou valores ausentes.\n",
    "\n",
    "Muitas vezes esses dados são inseridos por pessoas, manualmente. Há casos em que você já tinha séries históricas de anos, e em determinado momento alguém resolveu adicionar uma nova coluna.\n",
    "\n",
    "Existem inúmeras técnicas para lidar com esse tipo de problema, e nesta aula vamos falar de duas das principais abordagens.\n"
   ]
  },
  {
   "cell_type": "code",
   "execution_count": 4,
   "id": "9871a964",
   "metadata": {},
   "outputs": [
    {
     "data": {
      "text/html": [
       "<div>\n",
       "<style scoped>\n",
       "    .dataframe tbody tr th:only-of-type {\n",
       "        vertical-align: middle;\n",
       "    }\n",
       "\n",
       "    .dataframe tbody tr th {\n",
       "        vertical-align: top;\n",
       "    }\n",
       "\n",
       "    .dataframe thead th {\n",
       "        text-align: right;\n",
       "    }\n",
       "</style>\n",
       "<table border=\"1\" class=\"dataframe\">\n",
       "  <thead>\n",
       "    <tr style=\"text-align: right;\">\n",
       "      <th></th>\n",
       "      <th>PassengerId</th>\n",
       "      <th>Survived</th>\n",
       "      <th>Pclass</th>\n",
       "      <th>Name</th>\n",
       "      <th>Sex</th>\n",
       "      <th>Age</th>\n",
       "      <th>SibSp</th>\n",
       "      <th>Parch</th>\n",
       "      <th>Ticket</th>\n",
       "      <th>Fare</th>\n",
       "      <th>Cabin</th>\n",
       "      <th>Embarked</th>\n",
       "    </tr>\n",
       "  </thead>\n",
       "  <tbody>\n",
       "    <tr>\n",
       "      <th>0</th>\n",
       "      <td>1</td>\n",
       "      <td>0</td>\n",
       "      <td>3</td>\n",
       "      <td>Braund, Mr. Owen Harris</td>\n",
       "      <td>male</td>\n",
       "      <td>22.0</td>\n",
       "      <td>1</td>\n",
       "      <td>0</td>\n",
       "      <td>A/5 21171</td>\n",
       "      <td>7.2500</td>\n",
       "      <td>NaN</td>\n",
       "      <td>S</td>\n",
       "    </tr>\n",
       "    <tr>\n",
       "      <th>1</th>\n",
       "      <td>2</td>\n",
       "      <td>1</td>\n",
       "      <td>1</td>\n",
       "      <td>Cumings, Mrs. John Bradley (Florence Briggs Th...</td>\n",
       "      <td>female</td>\n",
       "      <td>38.0</td>\n",
       "      <td>1</td>\n",
       "      <td>0</td>\n",
       "      <td>PC 17599</td>\n",
       "      <td>71.2833</td>\n",
       "      <td>C85</td>\n",
       "      <td>C</td>\n",
       "    </tr>\n",
       "    <tr>\n",
       "      <th>2</th>\n",
       "      <td>3</td>\n",
       "      <td>1</td>\n",
       "      <td>3</td>\n",
       "      <td>Heikkinen, Miss. Laina</td>\n",
       "      <td>female</td>\n",
       "      <td>26.0</td>\n",
       "      <td>0</td>\n",
       "      <td>0</td>\n",
       "      <td>STON/O2. 3101282</td>\n",
       "      <td>7.9250</td>\n",
       "      <td>NaN</td>\n",
       "      <td>S</td>\n",
       "    </tr>\n",
       "    <tr>\n",
       "      <th>3</th>\n",
       "      <td>4</td>\n",
       "      <td>1</td>\n",
       "      <td>1</td>\n",
       "      <td>Futrelle, Mrs. Jacques Heath (Lily May Peel)</td>\n",
       "      <td>female</td>\n",
       "      <td>35.0</td>\n",
       "      <td>1</td>\n",
       "      <td>0</td>\n",
       "      <td>113803</td>\n",
       "      <td>53.1000</td>\n",
       "      <td>C123</td>\n",
       "      <td>S</td>\n",
       "    </tr>\n",
       "    <tr>\n",
       "      <th>4</th>\n",
       "      <td>5</td>\n",
       "      <td>0</td>\n",
       "      <td>3</td>\n",
       "      <td>Allen, Mr. William Henry</td>\n",
       "      <td>male</td>\n",
       "      <td>35.0</td>\n",
       "      <td>0</td>\n",
       "      <td>0</td>\n",
       "      <td>373450</td>\n",
       "      <td>8.0500</td>\n",
       "      <td>NaN</td>\n",
       "      <td>S</td>\n",
       "    </tr>\n",
       "  </tbody>\n",
       "</table>\n",
       "</div>"
      ],
      "text/plain": [
       "   PassengerId  Survived  Pclass  \\\n",
       "0            1         0       3   \n",
       "1            2         1       1   \n",
       "2            3         1       3   \n",
       "3            4         1       1   \n",
       "4            5         0       3   \n",
       "\n",
       "                                                Name     Sex   Age  SibSp  \\\n",
       "0                            Braund, Mr. Owen Harris    male  22.0      1   \n",
       "1  Cumings, Mrs. John Bradley (Florence Briggs Th...  female  38.0      1   \n",
       "2                             Heikkinen, Miss. Laina  female  26.0      0   \n",
       "3       Futrelle, Mrs. Jacques Heath (Lily May Peel)  female  35.0      1   \n",
       "4                           Allen, Mr. William Henry    male  35.0      0   \n",
       "\n",
       "   Parch            Ticket     Fare Cabin Embarked  \n",
       "0      0         A/5 21171   7.2500   NaN        S  \n",
       "1      0          PC 17599  71.2833   C85        C  \n",
       "2      0  STON/O2. 3101282   7.9250   NaN        S  \n",
       "3      0            113803  53.1000  C123        S  \n",
       "4      0            373450   8.0500   NaN        S  "
      ]
     },
     "execution_count": 4,
     "metadata": {},
     "output_type": "execute_result"
    }
   ],
   "source": [
    "import pandas as pd\n",
    "\n",
    "DATA_PATH = \"/Users/filipesamuel/Desktop/dataScienceFromScratch/challenges/titanic_project/titanic.csv\"\n",
    "\n",
    "df = pd.read_csv(DATA_PATH)\n",
    "\n",
    "df.head()"
   ]
  },
  {
   "cell_type": "markdown",
   "id": "1bf85cf4",
   "metadata": {},
   "source": [
    "## Identificando os valores ausentes\n",
    "\n",
    "Já vimos anteriormente como identificar valores do tipo `NaN`. É indispensável identificar a quantidade de valores ausentes e qual a representatividade dessa quantidade frente ao total de entradas."
   ]
  },
  {
   "cell_type": "code",
   "execution_count": null,
   "id": "fb948304",
   "metadata": {},
   "outputs": [
    {
     "data": {
      "text/plain": [
       "PassengerId      0\n",
       "Survived         0\n",
       "Pclass           0\n",
       "Name             0\n",
       "Sex              0\n",
       "Age            177\n",
       "SibSp            0\n",
       "Parch            0\n",
       "Ticket           0\n",
       "Fare             0\n",
       "Cabin          687\n",
       "Embarked         2\n",
       "dtype: int64"
      ]
     },
     "execution_count": 5,
     "metadata": {},
     "output_type": "execute_result"
    }
   ],
   "source": [
    "# ver a quantidade de valores ausentes por coluna\n",
    "df.isnull().sum()"
   ]
  },
  {
   "cell_type": "markdown",
   "id": "d0a4733c",
   "metadata": {},
   "source": [
    "## Excluir valores ausentes\n",
    "\n",
    "Está é uma primeira opção quando você está lidando com valores nulos do tipo `NaN` no seu *DataFrame*.\n",
    "\n",
    "Entretanto, ela tende a não ser ideal, pois por causa do valor de uma única célula, você elimina os dados existentes em outras colunas. Esta opção deve ser considerada no caso da quantidade de dados nulos serem pequenos a ponto de não ter representatividade no dataset\n",
    "\n",
    "Eu consigo excluir tanto linhas com valores ausentes quanto colunas inteiras. Para que o Pandas saiba se a sua inteção é de eliminar linhas (`axis=0`) ou colunas (`axis=1`), você deve informar dentro do método `dropna()`."
   ]
  },
  {
   "cell_type": "code",
   "execution_count": 16,
   "id": "ec617dbf",
   "metadata": {},
   "outputs": [
    {
     "name": "stdout",
     "output_type": "stream",
     "text": [
      "Antes: (891, 12)\n",
      "Depois: (714, 12)\n"
     ]
    }
   ],
   "source": [
    "# eliminar todas as linhas onde existam valores ausentes em \"Age\"\n",
    "df_clean = df.dropna(subset=['Age'], axis=0)\n",
    "\n",
    "# comparar o antes e o depois\n",
    "print(f\"Antes: {df.shape}\" )\n",
    "print(f\"Depois: {df_clean.shape}\")"
   ]
  },
  {
   "cell_type": "markdown",
   "id": "8411f95b",
   "metadata": {},
   "source": [
    "## Preencher valores\n",
    "\n",
    "Esta normalmente é a melhor opção, pois permite que você mantenha dados existentes em outras células.\n",
    "\n",
    "Uma pergunta que normalmente surge é: \"mas eu substituo o valor ausente por qual valor?\". A resposta para essa pergunta é: depende.\n",
    "\n",
    "Existem técnicas simples como usar valor mais frequente, media e mediana, assim como há técnicas mais avançadas que envolvem até mesmo o uso de modelos de *machine learning* cuja função é dizer qual valor usar nesses campos.\n",
    "\n",
    "Vou mostrar como você pode usar a mediana para preencher os campos ausentes da coluna `Cabin`, com o uso da função `fillna()`"
   ]
  },
  {
   "cell_type": "code",
   "execution_count": 11,
   "id": "9b6c4922",
   "metadata": {},
   "outputs": [
    {
     "data": {
      "text/plain": [
       "PassengerId      0\n",
       "Survived         0\n",
       "Pclass           0\n",
       "Name             0\n",
       "Sex              0\n",
       "Age              0\n",
       "SibSp            0\n",
       "Parch            0\n",
       "Ticket           0\n",
       "Fare             0\n",
       "Cabin          529\n",
       "Embarked         2\n",
       "dtype: int64"
      ]
     },
     "execution_count": 11,
     "metadata": {},
     "output_type": "execute_result"
    }
   ],
   "source": [
    "df_clean.isnull().sum()"
   ]
  },
  {
   "cell_type": "code",
   "execution_count": null,
   "id": "cc50474e",
   "metadata": {},
   "outputs": [
    {
     "ename": "TypeError",
     "evalue": "Cannot convert [nan 'C85' nan 'C123' nan 'E46' nan nan nan 'G6' 'C103' nan nan nan nan\n nan nan nan 'D56' nan 'A6' nan nan 'C23 C25 C27' nan nan nan nan nan nan\n nan nan nan nan nan nan nan nan 'D33' nan 'B30' nan nan nan nan nan 'B28'\n 'C83' nan 'F33' nan nan nan nan nan nan nan nan 'F G73' nan nan nan nan\n nan nan nan nan 'C23 C25 C27' nan nan nan 'E31' nan nan 'A5' 'D10 D12'\n nan nan nan 'D26' nan nan nan nan nan 'C110' nan nan nan nan nan nan nan\n 'B58 B60' nan nan nan 'E101' 'D26' nan nan nan nan nan nan nan nan nan\n 'D47' 'C123' nan 'B86' nan nan nan nan nan nan nan 'F2' nan nan 'C2' nan\n nan nan nan nan nan nan nan nan nan nan nan nan 'B19' nan nan nan 'A7'\n nan 'C49' nan nan nan 'F4' nan nan nan nan nan nan nan 'F2' 'B4' 'B80'\n nan nan nan nan nan nan 'G6' nan nan nan 'A31' nan nan nan nan 'D36' nan\n nan 'D15' nan nan nan nan 'C93' nan nan nan nan 'C83' nan nan nan nan nan\n nan nan nan nan nan nan 'C78' nan nan 'D35' nan 'G6' 'C87' nan nan nan\n 'B77' nan nan nan 'E67' 'B94' nan nan nan 'C125' 'C99' nan nan 'C118'\n 'D7' nan nan nan nan nan nan nan nan nan nan nan nan nan 'B49' 'D' nan\n nan nan 'C22 C26' 'B58 B60' nan 'C22 C26' 'C65' nan 'E36' 'C54'\n 'B57 B59 B63 B66' nan nan nan nan nan nan 'C7' 'E34' nan nan nan nan\n 'C32' nan 'D' nan 'B18' 'C124' 'C91' nan 'C2' 'E40' nan 'T' 'F2'\n 'C23 C25 C27' nan nan nan 'F33' nan nan nan nan nan nan nan 'E33' nan nan\n nan nan nan nan 'D37' 'B35' 'E50' nan nan nan nan nan 'C82' nan nan nan\n nan nan nan nan nan nan nan 'B96 B98' nan nan 'D36' 'G6' nan nan nan nan\n nan nan nan nan nan nan nan nan nan nan 'C78' nan nan nan nan nan nan nan\n nan nan nan nan 'E10' 'C52' nan nan 'E44' 'B96 B98' nan nan 'C23 C25 C27'\n nan nan nan nan nan 'A34' nan nan nan 'C104' nan 'C111' 'C92' nan 'E38'\n nan 'E12' nan 'E63' nan nan nan nan nan nan 'D' nan nan nan nan nan nan\n nan nan 'B49' 'C93' 'B37' nan nan nan 'C30' nan nan 'D20' 'C22 C26' nan\n nan nan nan 'B79' 'C65' nan nan nan nan 'E25' nan nan 'D46' 'F33' nan nan\n 'B73' nan 'B18' nan nan nan nan nan nan nan nan 'B38' nan 'B39' 'B22' nan\n nan nan 'C86' nan nan nan nan 'C70' nan nan nan nan 'A16' 'E67' nan nan\n nan nan nan nan nan nan 'C101' 'E25' nan nan nan 'E44' nan nan 'C68' nan\n 'A10' 'E68' nan 'B41' nan nan 'D20' nan nan nan nan 'A20' nan nan nan nan\n nan nan nan 'C125' nan nan nan nan nan 'F4' nan nan 'D19' nan nan nan\n 'D50' nan 'D9' nan 'A23' nan 'B50' nan nan nan nan nan nan 'B35' nan nan\n 'D33' nan 'A26' nan nan nan nan nan nan nan 'D48' nan nan 'E58' nan nan\n nan nan nan nan 'B71' nan nan nan nan nan nan 'B51 B53 B55' 'D49' nan nan\n nan nan nan nan nan 'B5' 'B20' nan nan nan nan nan 'C68' 'F G63'\n 'C62 C64' 'E24' nan nan nan nan nan 'E24' nan 'C90' 'C126' nan nan\n 'F G73' 'C45' 'E101' nan nan nan nan nan 'E8' nan nan nan nan 'B5' nan\n nan nan nan nan 'B101' 'C46' 'B57 B59 B63 B66' nan nan 'B22' nan nan\n 'D30' nan nan 'E121' nan nan nan nan nan nan nan 'B77' nan nan 'B96 B98'\n nan 'D11' nan nan nan nan 'E77' nan nan nan 'B3' nan 'B20' 'D6' nan nan\n nan nan nan 'B82 B84' nan nan nan 'D17' nan nan nan nan nan 'B96 B98' nan\n nan nan 'A36' nan nan 'E8' nan nan nan nan nan nan nan nan nan 'B69' nan\n nan 'E121' nan nan 'B28' nan nan nan nan 'E49' nan nan nan nan nan nan\n nan nan nan nan nan nan nan 'D28' nan nan nan 'E17' nan nan nan 'D17' nan\n nan nan 'A24' nan nan 'D35' 'B51 B53 B55' nan nan nan nan nan 'C50' nan\n nan nan nan nan nan nan 'B42' 'C148' nan] to numeric",
     "output_type": "error",
     "traceback": [
      "\u001b[31m---------------------------------------------------------------------------\u001b[39m",
      "\u001b[31mTypeError\u001b[39m                                 Traceback (most recent call last)",
      "\u001b[36mCell\u001b[39m\u001b[36m \u001b[39m\u001b[32mIn[17]\u001b[39m\u001b[32m, line 2\u001b[39m\n\u001b[32m      1\u001b[39m \u001b[38;5;66;03m# preencher valores ausentes em `Cabin` com a mediana\u001b[39;00m\n\u001b[32m----> \u001b[39m\u001b[32m2\u001b[39m cabin_median = \u001b[43mdf_clean\u001b[49m\u001b[43m.\u001b[49m\u001b[43mCabin\u001b[49m\u001b[43m.\u001b[49m\u001b[43mmedian\u001b[49m\u001b[43m(\u001b[49m\u001b[43m)\u001b[49m\n\u001b[32m      3\u001b[39m df_clean = df_clean.fillna({\u001b[33m\"\u001b[39m\u001b[33mCabin\u001b[39m\u001b[33m\"\u001b[39m: cabin_median})\n\u001b[32m      5\u001b[39m \u001b[38;5;66;03m# ver valores ausentes\u001b[39;00m\n",
      "\u001b[36mFile \u001b[39m\u001b[32m~/Desktop/dataScienceFromScratch/venv/lib/python3.13/site-packages/pandas/core/series.py:6570\u001b[39m, in \u001b[36mSeries.median\u001b[39m\u001b[34m(self, axis, skipna, numeric_only, **kwargs)\u001b[39m\n\u001b[32m   6562\u001b[39m \u001b[38;5;129m@doc\u001b[39m(make_doc(\u001b[33m\"\u001b[39m\u001b[33mmedian\u001b[39m\u001b[33m\"\u001b[39m, ndim=\u001b[32m1\u001b[39m))\n\u001b[32m   6563\u001b[39m \u001b[38;5;28;01mdef\u001b[39;00m\u001b[38;5;250m \u001b[39m\u001b[34mmedian\u001b[39m(\n\u001b[32m   6564\u001b[39m     \u001b[38;5;28mself\u001b[39m,\n\u001b[32m   (...)\u001b[39m\u001b[32m   6568\u001b[39m     **kwargs,\n\u001b[32m   6569\u001b[39m ):\n\u001b[32m-> \u001b[39m\u001b[32m6570\u001b[39m     \u001b[38;5;28;01mreturn\u001b[39;00m \u001b[43mNDFrame\u001b[49m\u001b[43m.\u001b[49m\u001b[43mmedian\u001b[49m\u001b[43m(\u001b[49m\u001b[38;5;28;43mself\u001b[39;49m\u001b[43m,\u001b[49m\u001b[43m \u001b[49m\u001b[43maxis\u001b[49m\u001b[43m,\u001b[49m\u001b[43m \u001b[49m\u001b[43mskipna\u001b[49m\u001b[43m,\u001b[49m\u001b[43m \u001b[49m\u001b[43mnumeric_only\u001b[49m\u001b[43m,\u001b[49m\u001b[43m \u001b[49m\u001b[43m*\u001b[49m\u001b[43m*\u001b[49m\u001b[43mkwargs\u001b[49m\u001b[43m)\u001b[49m\n",
      "\u001b[36mFile \u001b[39m\u001b[32m~/Desktop/dataScienceFromScratch/venv/lib/python3.13/site-packages/pandas/core/generic.py:12450\u001b[39m, in \u001b[36mNDFrame.median\u001b[39m\u001b[34m(self, axis, skipna, numeric_only, **kwargs)\u001b[39m\n\u001b[32m  12443\u001b[39m \u001b[38;5;28;01mdef\u001b[39;00m\u001b[38;5;250m \u001b[39m\u001b[34mmedian\u001b[39m(\n\u001b[32m  12444\u001b[39m     \u001b[38;5;28mself\u001b[39m,\n\u001b[32m  12445\u001b[39m     axis: Axis | \u001b[38;5;28;01mNone\u001b[39;00m = \u001b[32m0\u001b[39m,\n\u001b[32m   (...)\u001b[39m\u001b[32m  12448\u001b[39m     **kwargs,\n\u001b[32m  12449\u001b[39m ) -> Series | \u001b[38;5;28mfloat\u001b[39m:\n\u001b[32m> \u001b[39m\u001b[32m12450\u001b[39m     \u001b[38;5;28;01mreturn\u001b[39;00m \u001b[38;5;28;43mself\u001b[39;49m\u001b[43m.\u001b[49m\u001b[43m_stat_function\u001b[49m\u001b[43m(\u001b[49m\n\u001b[32m  12451\u001b[39m \u001b[43m        \u001b[49m\u001b[33;43m\"\u001b[39;49m\u001b[33;43mmedian\u001b[39;49m\u001b[33;43m\"\u001b[39;49m\u001b[43m,\u001b[49m\u001b[43m \u001b[49m\u001b[43mnanops\u001b[49m\u001b[43m.\u001b[49m\u001b[43mnanmedian\u001b[49m\u001b[43m,\u001b[49m\u001b[43m \u001b[49m\u001b[43maxis\u001b[49m\u001b[43m,\u001b[49m\u001b[43m \u001b[49m\u001b[43mskipna\u001b[49m\u001b[43m,\u001b[49m\u001b[43m \u001b[49m\u001b[43mnumeric_only\u001b[49m\u001b[43m,\u001b[49m\u001b[43m \u001b[49m\u001b[43m*\u001b[49m\u001b[43m*\u001b[49m\u001b[43mkwargs\u001b[49m\n\u001b[32m  12452\u001b[39m \u001b[43m    \u001b[49m\u001b[43m)\u001b[49m\n",
      "\u001b[36mFile \u001b[39m\u001b[32m~/Desktop/dataScienceFromScratch/venv/lib/python3.13/site-packages/pandas/core/generic.py:12396\u001b[39m, in \u001b[36mNDFrame._stat_function\u001b[39m\u001b[34m(self, name, func, axis, skipna, numeric_only, **kwargs)\u001b[39m\n\u001b[32m  12392\u001b[39m nv.validate_func(name, (), kwargs)\n\u001b[32m  12394\u001b[39m validate_bool_kwarg(skipna, \u001b[33m\"\u001b[39m\u001b[33mskipna\u001b[39m\u001b[33m\"\u001b[39m, none_allowed=\u001b[38;5;28;01mFalse\u001b[39;00m)\n\u001b[32m> \u001b[39m\u001b[32m12396\u001b[39m \u001b[38;5;28;01mreturn\u001b[39;00m \u001b[38;5;28;43mself\u001b[39;49m\u001b[43m.\u001b[49m\u001b[43m_reduce\u001b[49m\u001b[43m(\u001b[49m\n\u001b[32m  12397\u001b[39m \u001b[43m    \u001b[49m\u001b[43mfunc\u001b[49m\u001b[43m,\u001b[49m\u001b[43m \u001b[49m\u001b[43mname\u001b[49m\u001b[43m=\u001b[49m\u001b[43mname\u001b[49m\u001b[43m,\u001b[49m\u001b[43m \u001b[49m\u001b[43maxis\u001b[49m\u001b[43m=\u001b[49m\u001b[43maxis\u001b[49m\u001b[43m,\u001b[49m\u001b[43m \u001b[49m\u001b[43mskipna\u001b[49m\u001b[43m=\u001b[49m\u001b[43mskipna\u001b[49m\u001b[43m,\u001b[49m\u001b[43m \u001b[49m\u001b[43mnumeric_only\u001b[49m\u001b[43m=\u001b[49m\u001b[43mnumeric_only\u001b[49m\n\u001b[32m  12398\u001b[39m \u001b[43m\u001b[49m\u001b[43m)\u001b[49m\n",
      "\u001b[36mFile \u001b[39m\u001b[32m~/Desktop/dataScienceFromScratch/venv/lib/python3.13/site-packages/pandas/core/series.py:6468\u001b[39m, in \u001b[36mSeries._reduce\u001b[39m\u001b[34m(self, op, name, axis, skipna, numeric_only, filter_type, **kwds)\u001b[39m\n\u001b[32m   6463\u001b[39m     \u001b[38;5;66;03m# GH#47500 - change to TypeError to match other methods\u001b[39;00m\n\u001b[32m   6464\u001b[39m     \u001b[38;5;28;01mraise\u001b[39;00m \u001b[38;5;167;01mTypeError\u001b[39;00m(\n\u001b[32m   6465\u001b[39m         \u001b[33mf\u001b[39m\u001b[33m\"\u001b[39m\u001b[33mSeries.\u001b[39m\u001b[38;5;132;01m{\u001b[39;00mname\u001b[38;5;132;01m}\u001b[39;00m\u001b[33m does not allow \u001b[39m\u001b[38;5;132;01m{\u001b[39;00mkwd_name\u001b[38;5;132;01m}\u001b[39;00m\u001b[33m=\u001b[39m\u001b[38;5;132;01m{\u001b[39;00mnumeric_only\u001b[38;5;132;01m}\u001b[39;00m\u001b[33m \u001b[39m\u001b[33m\"\u001b[39m\n\u001b[32m   6466\u001b[39m         \u001b[33m\"\u001b[39m\u001b[33mwith non-numeric dtypes.\u001b[39m\u001b[33m\"\u001b[39m\n\u001b[32m   6467\u001b[39m     )\n\u001b[32m-> \u001b[39m\u001b[32m6468\u001b[39m \u001b[38;5;28;01mreturn\u001b[39;00m \u001b[43mop\u001b[49m\u001b[43m(\u001b[49m\u001b[43mdelegate\u001b[49m\u001b[43m,\u001b[49m\u001b[43m \u001b[49m\u001b[43mskipna\u001b[49m\u001b[43m=\u001b[49m\u001b[43mskipna\u001b[49m\u001b[43m,\u001b[49m\u001b[43m \u001b[49m\u001b[43m*\u001b[49m\u001b[43m*\u001b[49m\u001b[43mkwds\u001b[49m\u001b[43m)\u001b[49m\n",
      "\u001b[36mFile \u001b[39m\u001b[32m~/Desktop/dataScienceFromScratch/venv/lib/python3.13/site-packages/pandas/core/nanops.py:147\u001b[39m, in \u001b[36mbottleneck_switch.__call__.<locals>.f\u001b[39m\u001b[34m(values, axis, skipna, **kwds)\u001b[39m\n\u001b[32m    145\u001b[39m         result = alt(values, axis=axis, skipna=skipna, **kwds)\n\u001b[32m    146\u001b[39m \u001b[38;5;28;01melse\u001b[39;00m:\n\u001b[32m--> \u001b[39m\u001b[32m147\u001b[39m     result = \u001b[43malt\u001b[49m\u001b[43m(\u001b[49m\u001b[43mvalues\u001b[49m\u001b[43m,\u001b[49m\u001b[43m \u001b[49m\u001b[43maxis\u001b[49m\u001b[43m=\u001b[49m\u001b[43maxis\u001b[49m\u001b[43m,\u001b[49m\u001b[43m \u001b[49m\u001b[43mskipna\u001b[49m\u001b[43m=\u001b[49m\u001b[43mskipna\u001b[49m\u001b[43m,\u001b[49m\u001b[43m \u001b[49m\u001b[43m*\u001b[49m\u001b[43m*\u001b[49m\u001b[43mkwds\u001b[49m\u001b[43m)\u001b[49m\n\u001b[32m    149\u001b[39m \u001b[38;5;28;01mreturn\u001b[39;00m result\n",
      "\u001b[36mFile \u001b[39m\u001b[32m~/Desktop/dataScienceFromScratch/venv/lib/python3.13/site-packages/pandas/core/nanops.py:787\u001b[39m, in \u001b[36mnanmedian\u001b[39m\u001b[34m(values, axis, skipna, mask)\u001b[39m\n\u001b[32m    785\u001b[39m     inferred = lib.infer_dtype(values)\n\u001b[32m    786\u001b[39m     \u001b[38;5;28;01mif\u001b[39;00m inferred \u001b[38;5;129;01min\u001b[39;00m [\u001b[33m\"\u001b[39m\u001b[33mstring\u001b[39m\u001b[33m\"\u001b[39m, \u001b[33m\"\u001b[39m\u001b[33mmixed\u001b[39m\u001b[33m\"\u001b[39m]:\n\u001b[32m--> \u001b[39m\u001b[32m787\u001b[39m         \u001b[38;5;28;01mraise\u001b[39;00m \u001b[38;5;167;01mTypeError\u001b[39;00m(\u001b[33mf\u001b[39m\u001b[33m\"\u001b[39m\u001b[33mCannot convert \u001b[39m\u001b[38;5;132;01m{\u001b[39;00mvalues\u001b[38;5;132;01m}\u001b[39;00m\u001b[33m to numeric\u001b[39m\u001b[33m\"\u001b[39m)\n\u001b[32m    788\u001b[39m \u001b[38;5;28;01mtry\u001b[39;00m:\n\u001b[32m    789\u001b[39m     values = values.astype(\u001b[33m\"\u001b[39m\u001b[33mf8\u001b[39m\u001b[33m\"\u001b[39m)\n",
      "\u001b[31mTypeError\u001b[39m: Cannot convert [nan 'C85' nan 'C123' nan 'E46' nan nan nan 'G6' 'C103' nan nan nan nan\n nan nan nan 'D56' nan 'A6' nan nan 'C23 C25 C27' nan nan nan nan nan nan\n nan nan nan nan nan nan nan nan 'D33' nan 'B30' nan nan nan nan nan 'B28'\n 'C83' nan 'F33' nan nan nan nan nan nan nan nan 'F G73' nan nan nan nan\n nan nan nan nan 'C23 C25 C27' nan nan nan 'E31' nan nan 'A5' 'D10 D12'\n nan nan nan 'D26' nan nan nan nan nan 'C110' nan nan nan nan nan nan nan\n 'B58 B60' nan nan nan 'E101' 'D26' nan nan nan nan nan nan nan nan nan\n 'D47' 'C123' nan 'B86' nan nan nan nan nan nan nan 'F2' nan nan 'C2' nan\n nan nan nan nan nan nan nan nan nan nan nan nan 'B19' nan nan nan 'A7'\n nan 'C49' nan nan nan 'F4' nan nan nan nan nan nan nan 'F2' 'B4' 'B80'\n nan nan nan nan nan nan 'G6' nan nan nan 'A31' nan nan nan nan 'D36' nan\n nan 'D15' nan nan nan nan 'C93' nan nan nan nan 'C83' nan nan nan nan nan\n nan nan nan nan nan nan 'C78' nan nan 'D35' nan 'G6' 'C87' nan nan nan\n 'B77' nan nan nan 'E67' 'B94' nan nan nan 'C125' 'C99' nan nan 'C118'\n 'D7' nan nan nan nan nan nan nan nan nan nan nan nan nan 'B49' 'D' nan\n nan nan 'C22 C26' 'B58 B60' nan 'C22 C26' 'C65' nan 'E36' 'C54'\n 'B57 B59 B63 B66' nan nan nan nan nan nan 'C7' 'E34' nan nan nan nan\n 'C32' nan 'D' nan 'B18' 'C124' 'C91' nan 'C2' 'E40' nan 'T' 'F2'\n 'C23 C25 C27' nan nan nan 'F33' nan nan nan nan nan nan nan 'E33' nan nan\n nan nan nan nan 'D37' 'B35' 'E50' nan nan nan nan nan 'C82' nan nan nan\n nan nan nan nan nan nan nan 'B96 B98' nan nan 'D36' 'G6' nan nan nan nan\n nan nan nan nan nan nan nan nan nan nan 'C78' nan nan nan nan nan nan nan\n nan nan nan nan 'E10' 'C52' nan nan 'E44' 'B96 B98' nan nan 'C23 C25 C27'\n nan nan nan nan nan 'A34' nan nan nan 'C104' nan 'C111' 'C92' nan 'E38'\n nan 'E12' nan 'E63' nan nan nan nan nan nan 'D' nan nan nan nan nan nan\n nan nan 'B49' 'C93' 'B37' nan nan nan 'C30' nan nan 'D20' 'C22 C26' nan\n nan nan nan 'B79' 'C65' nan nan nan nan 'E25' nan nan 'D46' 'F33' nan nan\n 'B73' nan 'B18' nan nan nan nan nan nan nan nan 'B38' nan 'B39' 'B22' nan\n nan nan 'C86' nan nan nan nan 'C70' nan nan nan nan 'A16' 'E67' nan nan\n nan nan nan nan nan nan 'C101' 'E25' nan nan nan 'E44' nan nan 'C68' nan\n 'A10' 'E68' nan 'B41' nan nan 'D20' nan nan nan nan 'A20' nan nan nan nan\n nan nan nan 'C125' nan nan nan nan nan 'F4' nan nan 'D19' nan nan nan\n 'D50' nan 'D9' nan 'A23' nan 'B50' nan nan nan nan nan nan 'B35' nan nan\n 'D33' nan 'A26' nan nan nan nan nan nan nan 'D48' nan nan 'E58' nan nan\n nan nan nan nan 'B71' nan nan nan nan nan nan 'B51 B53 B55' 'D49' nan nan\n nan nan nan nan nan 'B5' 'B20' nan nan nan nan nan 'C68' 'F G63'\n 'C62 C64' 'E24' nan nan nan nan nan 'E24' nan 'C90' 'C126' nan nan\n 'F G73' 'C45' 'E101' nan nan nan nan nan 'E8' nan nan nan nan 'B5' nan\n nan nan nan nan 'B101' 'C46' 'B57 B59 B63 B66' nan nan 'B22' nan nan\n 'D30' nan nan 'E121' nan nan nan nan nan nan nan 'B77' nan nan 'B96 B98'\n nan 'D11' nan nan nan nan 'E77' nan nan nan 'B3' nan 'B20' 'D6' nan nan\n nan nan nan 'B82 B84' nan nan nan 'D17' nan nan nan nan nan 'B96 B98' nan\n nan nan 'A36' nan nan 'E8' nan nan nan nan nan nan nan nan nan 'B69' nan\n nan 'E121' nan nan 'B28' nan nan nan nan 'E49' nan nan nan nan nan nan\n nan nan nan nan nan nan nan 'D28' nan nan nan 'E17' nan nan nan 'D17' nan\n nan nan 'A24' nan nan 'D35' 'B51 B53 B55' nan nan nan nan nan 'C50' nan\n nan nan nan nan nan nan 'B42' 'C148' nan] to numeric"
     ]
    }
   ],
   "source": [
    "# preencher valores ausentes em `Cabin` com a mediana\n",
    "cabin_median = df_clean.Cabin.median().                     # Dará erro pois o tipo dos valores na coluna Cabin é NaN, e para calcular mediana precisa ser numérico\n",
    "df_clean = df_clean.fillna({\"Cabin\": cabin_median})\n",
    "\n",
    "# ver valores ausentes\n",
    "df_clean.isnull().sum()"
   ]
  }
 ],
 "metadata": {
  "kernelspec": {
   "display_name": "venv",
   "language": "python",
   "name": "python3"
  },
  "language_info": {
   "codemirror_mode": {
    "name": "ipython",
    "version": 3
   },
   "file_extension": ".py",
   "mimetype": "text/x-python",
   "name": "python",
   "nbconvert_exporter": "python",
   "pygments_lexer": "ipython3",
   "version": "3.13.7"
  }
 },
 "nbformat": 4,
 "nbformat_minor": 5
}
